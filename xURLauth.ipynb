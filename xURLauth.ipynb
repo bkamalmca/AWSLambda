{
 "cells": [
  {
   "cell_type": "code",
   "execution_count": 20,
   "metadata": {},
   "outputs": [],
   "source": [
    "import boto3\n",
    "from botocore.auth import SigV4Auth\n",
    "from botocore.awsrequest import AWSRequest\n",
    "import requests\n",
    "from botocore.credentials import Credentials\n",
    "\n",
    "session = boto3.Session()\n",
    "credentials = session.get_credentials()\n",
    "creds = credentials.get_frozen_credentials()\n",
    "REGION = 'us-east-1'\n",
    "\n",
    "credentials = Credentials(\n",
    "        os.environ['AWS_ACCESS_KEY_ID'],\n",
    "        os.environ['AWS_SECRET_ACCESS_KEY'],\n",
    "        # os.environ['AWS_SESSION_TOKEN'],\n",
    "    )\n",
    "creds = credentials.get_frozen_credentials()    \n",
    "\n",
    "def signed_request(method, url, data=None, params=None, headers=None):\n",
    "    request = AWSRequest(method=method, url=url, data=data, params=params, headers=headers)\n",
    "    # \"service_name\" is generally \"execute-api\" for signing API Gateway requests\n",
    "    SigV4Auth(creds, \"lambda\", REGION).add_auth(request)\n",
    "    return requests.request(method=method, url=url, headers=dict(request.headers), data=data)\n",
    "\n"
   ]
  },
  {
   "cell_type": "code",
   "execution_count": 28,
   "metadata": {},
   "outputs": [
    {
     "name": "stdout",
     "output_type": "stream",
     "text": [
      "<botocore.credentials.Credentials object at 0x7fe4cfe6ea50>\n"
     ]
    }
   ],
   "source": [
    "print(credentials)\n",
    "#print(creds)"
   ]
  },
  {
   "cell_type": "code",
   "execution_count": 24,
   "metadata": {},
   "outputs": [],
   "source": [
    "url = f\"https://gcio3rff4r4u7p3tkmt47cbdam0eljuu.lambda-url.us-east-1.on.aws/\"\n",
    "data = {\"environmentId\": \"sample value\"}\n",
    "headers = {'Content-Type': 'application/json'}\n",
    "response = signed_request(method='POST', url=url, data=data, headers=headers)\n"
   ]
  },
  {
   "cell_type": "code",
   "execution_count": 29,
   "metadata": {},
   "outputs": [
    {
     "name": "stdout",
     "output_type": "stream",
     "text": [
      "<Response [200]>\n"
     ]
    }
   ],
   "source": [
    "print(response)\n",
    "#print(response.json())"
   ]
  }
 ],
 "metadata": {
  "instance_type": "ml.t3.medium",
  "kernelspec": {
   "display_name": "Python 3 (Data Science)",
   "language": "python",
   "name": "python3__SAGEMAKER_INTERNAL__arn:aws:sagemaker:us-east-1:081325390199:image/datascience-1.0"
  },
  "language_info": {
   "codemirror_mode": {
    "name": "ipython",
    "version": 3
   },
   "file_extension": ".py",
   "mimetype": "text/x-python",
   "name": "python",
   "nbconvert_exporter": "python",
   "pygments_lexer": "ipython3",
   "version": "3.7.10"
  }
 },
 "nbformat": 4,
 "nbformat_minor": 4
}
